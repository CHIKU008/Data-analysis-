{
  "nbformat": 4,
  "nbformat_minor": 0,
  "metadata": {
    "colab": {
      "provenance": []
    },
    "kernelspec": {
      "name": "python3",
      "display_name": "Python 3"
    },
    "language_info": {
      "name": "python"
    }
  },
  "cells": [
    {
      "cell_type": "markdown",
      "source": [
        "#AIRBNB DATA ANALYSIS\n"
      ],
      "metadata": {
        "id": "3VyzniPTXUn7"
      }
    },
    {
      "cell_type": "code",
      "source": [
        "import pandas as pd\n",
        "import numpy as np\n",
        "import matplotlib.pyplot as plt\n",
        "import seaborn as sns"
      ],
      "metadata": {
        "id": "L_FRD6J0W1vY"
      },
      "execution_count": 30,
      "outputs": []
    },
    {
      "cell_type": "code",
      "source": [
        "df = pd.read_csv(\"/content/compressed_data AIRBN.csv\")\n",
        "df.head(3)"
      ],
      "metadata": {
        "colab": {
          "base_uri": "https://localhost:8080/",
          "height": 435
        },
        "id": "lIFUavRNW1r2",
        "outputId": "b6df4ced-15ca-424b-849c-52f74f7e80ed"
      },
      "execution_count": 31,
      "outputs": [
        {
          "output_type": "execute_result",
          "data": {
            "text/plain": [
              "        id                                 NAME      host id  \\\n",
              "0  1001254   Clean & quiet apt home by the park  80014485718   \n",
              "1  1002102                Skylit Midtown Castle  52335172823   \n",
              "2  1002403  THE VILLAGE OF HARLEM....NEW YORK !  78829239556   \n",
              "\n",
              "  host_identity_verified host name neighbourhood group neighbourhood  \\\n",
              "0            unconfirmed  Madaline            Brooklyn    Kensington   \n",
              "1               verified     Jenna           Manhattan       Midtown   \n",
              "2                    NaN     Elise           Manhattan        Harlem   \n",
              "\n",
              "        lat      long        country  ... service fee minimum nights  \\\n",
              "0  40.64749 -73.97237  United States  ...        $193           10.0   \n",
              "1  40.75362 -73.98377  United States  ...         $28           30.0   \n",
              "2  40.80902 -73.94190  United States  ...        $124            3.0   \n",
              "\n",
              "  number of reviews last review  reviews per month review rate number  \\\n",
              "0               9.0  10/19/2021               0.21                4.0   \n",
              "1              45.0   5/21/2022               0.38                4.0   \n",
              "2               0.0         NaN                NaN                5.0   \n",
              "\n",
              "  calculated host listings count  availability 365  \\\n",
              "0                            6.0             286.0   \n",
              "1                            2.0             228.0   \n",
              "2                            1.0             352.0   \n",
              "\n",
              "                                         house_rules license  \n",
              "0  Clean up and treat the home the way you'd like...     NaN  \n",
              "1  Pet friendly but please confirm with me if the...     NaN  \n",
              "2  I encourage you to use my kitchen, cooking and...     NaN  \n",
              "\n",
              "[3 rows x 26 columns]"
            ],
            "text/html": [
              "\n",
              "  <div id=\"df-583e229e-5cdd-4d96-9bb1-d6a371a7f906\" class=\"colab-df-container\">\n",
              "    <div>\n",
              "<style scoped>\n",
              "    .dataframe tbody tr th:only-of-type {\n",
              "        vertical-align: middle;\n",
              "    }\n",
              "\n",
              "    .dataframe tbody tr th {\n",
              "        vertical-align: top;\n",
              "    }\n",
              "\n",
              "    .dataframe thead th {\n",
              "        text-align: right;\n",
              "    }\n",
              "</style>\n",
              "<table border=\"1\" class=\"dataframe\">\n",
              "  <thead>\n",
              "    <tr style=\"text-align: right;\">\n",
              "      <th></th>\n",
              "      <th>id</th>\n",
              "      <th>NAME</th>\n",
              "      <th>host id</th>\n",
              "      <th>host_identity_verified</th>\n",
              "      <th>host name</th>\n",
              "      <th>neighbourhood group</th>\n",
              "      <th>neighbourhood</th>\n",
              "      <th>lat</th>\n",
              "      <th>long</th>\n",
              "      <th>country</th>\n",
              "      <th>...</th>\n",
              "      <th>service fee</th>\n",
              "      <th>minimum nights</th>\n",
              "      <th>number of reviews</th>\n",
              "      <th>last review</th>\n",
              "      <th>reviews per month</th>\n",
              "      <th>review rate number</th>\n",
              "      <th>calculated host listings count</th>\n",
              "      <th>availability 365</th>\n",
              "      <th>house_rules</th>\n",
              "      <th>license</th>\n",
              "    </tr>\n",
              "  </thead>\n",
              "  <tbody>\n",
              "    <tr>\n",
              "      <th>0</th>\n",
              "      <td>1001254</td>\n",
              "      <td>Clean &amp; quiet apt home by the park</td>\n",
              "      <td>80014485718</td>\n",
              "      <td>unconfirmed</td>\n",
              "      <td>Madaline</td>\n",
              "      <td>Brooklyn</td>\n",
              "      <td>Kensington</td>\n",
              "      <td>40.64749</td>\n",
              "      <td>-73.97237</td>\n",
              "      <td>United States</td>\n",
              "      <td>...</td>\n",
              "      <td>$193</td>\n",
              "      <td>10.0</td>\n",
              "      <td>9.0</td>\n",
              "      <td>10/19/2021</td>\n",
              "      <td>0.21</td>\n",
              "      <td>4.0</td>\n",
              "      <td>6.0</td>\n",
              "      <td>286.0</td>\n",
              "      <td>Clean up and treat the home the way you'd like...</td>\n",
              "      <td>NaN</td>\n",
              "    </tr>\n",
              "    <tr>\n",
              "      <th>1</th>\n",
              "      <td>1002102</td>\n",
              "      <td>Skylit Midtown Castle</td>\n",
              "      <td>52335172823</td>\n",
              "      <td>verified</td>\n",
              "      <td>Jenna</td>\n",
              "      <td>Manhattan</td>\n",
              "      <td>Midtown</td>\n",
              "      <td>40.75362</td>\n",
              "      <td>-73.98377</td>\n",
              "      <td>United States</td>\n",
              "      <td>...</td>\n",
              "      <td>$28</td>\n",
              "      <td>30.0</td>\n",
              "      <td>45.0</td>\n",
              "      <td>5/21/2022</td>\n",
              "      <td>0.38</td>\n",
              "      <td>4.0</td>\n",
              "      <td>2.0</td>\n",
              "      <td>228.0</td>\n",
              "      <td>Pet friendly but please confirm with me if the...</td>\n",
              "      <td>NaN</td>\n",
              "    </tr>\n",
              "    <tr>\n",
              "      <th>2</th>\n",
              "      <td>1002403</td>\n",
              "      <td>THE VILLAGE OF HARLEM....NEW YORK !</td>\n",
              "      <td>78829239556</td>\n",
              "      <td>NaN</td>\n",
              "      <td>Elise</td>\n",
              "      <td>Manhattan</td>\n",
              "      <td>Harlem</td>\n",
              "      <td>40.80902</td>\n",
              "      <td>-73.94190</td>\n",
              "      <td>United States</td>\n",
              "      <td>...</td>\n",
              "      <td>$124</td>\n",
              "      <td>3.0</td>\n",
              "      <td>0.0</td>\n",
              "      <td>NaN</td>\n",
              "      <td>NaN</td>\n",
              "      <td>5.0</td>\n",
              "      <td>1.0</td>\n",
              "      <td>352.0</td>\n",
              "      <td>I encourage you to use my kitchen, cooking and...</td>\n",
              "      <td>NaN</td>\n",
              "    </tr>\n",
              "  </tbody>\n",
              "</table>\n",
              "<p>3 rows × 26 columns</p>\n",
              "</div>\n",
              "    <div class=\"colab-df-buttons\">\n",
              "\n",
              "  <div class=\"colab-df-container\">\n",
              "    <button class=\"colab-df-convert\" onclick=\"convertToInteractive('df-583e229e-5cdd-4d96-9bb1-d6a371a7f906')\"\n",
              "            title=\"Convert this dataframe to an interactive table.\"\n",
              "            style=\"display:none;\">\n",
              "\n",
              "  <svg xmlns=\"http://www.w3.org/2000/svg\" height=\"24px\" viewBox=\"0 -960 960 960\">\n",
              "    <path d=\"M120-120v-720h720v720H120Zm60-500h600v-160H180v160Zm220 220h160v-160H400v160Zm0 220h160v-160H400v160ZM180-400h160v-160H180v160Zm440 0h160v-160H620v160ZM180-180h160v-160H180v160Zm440 0h160v-160H620v160Z\"/>\n",
              "  </svg>\n",
              "    </button>\n",
              "\n",
              "  <style>\n",
              "    .colab-df-container {\n",
              "      display:flex;\n",
              "      gap: 12px;\n",
              "    }\n",
              "\n",
              "    .colab-df-convert {\n",
              "      background-color: #E8F0FE;\n",
              "      border: none;\n",
              "      border-radius: 50%;\n",
              "      cursor: pointer;\n",
              "      display: none;\n",
              "      fill: #1967D2;\n",
              "      height: 32px;\n",
              "      padding: 0 0 0 0;\n",
              "      width: 32px;\n",
              "    }\n",
              "\n",
              "    .colab-df-convert:hover {\n",
              "      background-color: #E2EBFA;\n",
              "      box-shadow: 0px 1px 2px rgba(60, 64, 67, 0.3), 0px 1px 3px 1px rgba(60, 64, 67, 0.15);\n",
              "      fill: #174EA6;\n",
              "    }\n",
              "\n",
              "    .colab-df-buttons div {\n",
              "      margin-bottom: 4px;\n",
              "    }\n",
              "\n",
              "    [theme=dark] .colab-df-convert {\n",
              "      background-color: #3B4455;\n",
              "      fill: #D2E3FC;\n",
              "    }\n",
              "\n",
              "    [theme=dark] .colab-df-convert:hover {\n",
              "      background-color: #434B5C;\n",
              "      box-shadow: 0px 1px 3px 1px rgba(0, 0, 0, 0.15);\n",
              "      filter: drop-shadow(0px 1px 2px rgba(0, 0, 0, 0.3));\n",
              "      fill: #FFFFFF;\n",
              "    }\n",
              "  </style>\n",
              "\n",
              "    <script>\n",
              "      const buttonEl =\n",
              "        document.querySelector('#df-583e229e-5cdd-4d96-9bb1-d6a371a7f906 button.colab-df-convert');\n",
              "      buttonEl.style.display =\n",
              "        google.colab.kernel.accessAllowed ? 'block' : 'none';\n",
              "\n",
              "      async function convertToInteractive(key) {\n",
              "        const element = document.querySelector('#df-583e229e-5cdd-4d96-9bb1-d6a371a7f906');\n",
              "        const dataTable =\n",
              "          await google.colab.kernel.invokeFunction('convertToInteractive',\n",
              "                                                    [key], {});\n",
              "        if (!dataTable) return;\n",
              "\n",
              "        const docLinkHtml = 'Like what you see? Visit the ' +\n",
              "          '<a target=\"_blank\" href=https://colab.research.google.com/notebooks/data_table.ipynb>data table notebook</a>'\n",
              "          + ' to learn more about interactive tables.';\n",
              "        element.innerHTML = '';\n",
              "        dataTable['output_type'] = 'display_data';\n",
              "        await google.colab.output.renderOutput(dataTable, element);\n",
              "        const docLink = document.createElement('div');\n",
              "        docLink.innerHTML = docLinkHtml;\n",
              "        element.appendChild(docLink);\n",
              "      }\n",
              "    </script>\n",
              "  </div>\n",
              "\n",
              "\n",
              "    <div id=\"df-7acc6d70-b420-4ecc-85d4-940b76021010\">\n",
              "      <button class=\"colab-df-quickchart\" onclick=\"quickchart('df-7acc6d70-b420-4ecc-85d4-940b76021010')\"\n",
              "                title=\"Suggest charts\"\n",
              "                style=\"display:none;\">\n",
              "\n",
              "<svg xmlns=\"http://www.w3.org/2000/svg\" height=\"24px\"viewBox=\"0 0 24 24\"\n",
              "     width=\"24px\">\n",
              "    <g>\n",
              "        <path d=\"M19 3H5c-1.1 0-2 .9-2 2v14c0 1.1.9 2 2 2h14c1.1 0 2-.9 2-2V5c0-1.1-.9-2-2-2zM9 17H7v-7h2v7zm4 0h-2V7h2v10zm4 0h-2v-4h2v4z\"/>\n",
              "    </g>\n",
              "</svg>\n",
              "      </button>\n",
              "\n",
              "<style>\n",
              "  .colab-df-quickchart {\n",
              "      --bg-color: #E8F0FE;\n",
              "      --fill-color: #1967D2;\n",
              "      --hover-bg-color: #E2EBFA;\n",
              "      --hover-fill-color: #174EA6;\n",
              "      --disabled-fill-color: #AAA;\n",
              "      --disabled-bg-color: #DDD;\n",
              "  }\n",
              "\n",
              "  [theme=dark] .colab-df-quickchart {\n",
              "      --bg-color: #3B4455;\n",
              "      --fill-color: #D2E3FC;\n",
              "      --hover-bg-color: #434B5C;\n",
              "      --hover-fill-color: #FFFFFF;\n",
              "      --disabled-bg-color: #3B4455;\n",
              "      --disabled-fill-color: #666;\n",
              "  }\n",
              "\n",
              "  .colab-df-quickchart {\n",
              "    background-color: var(--bg-color);\n",
              "    border: none;\n",
              "    border-radius: 50%;\n",
              "    cursor: pointer;\n",
              "    display: none;\n",
              "    fill: var(--fill-color);\n",
              "    height: 32px;\n",
              "    padding: 0;\n",
              "    width: 32px;\n",
              "  }\n",
              "\n",
              "  .colab-df-quickchart:hover {\n",
              "    background-color: var(--hover-bg-color);\n",
              "    box-shadow: 0 1px 2px rgba(60, 64, 67, 0.3), 0 1px 3px 1px rgba(60, 64, 67, 0.15);\n",
              "    fill: var(--button-hover-fill-color);\n",
              "  }\n",
              "\n",
              "  .colab-df-quickchart-complete:disabled,\n",
              "  .colab-df-quickchart-complete:disabled:hover {\n",
              "    background-color: var(--disabled-bg-color);\n",
              "    fill: var(--disabled-fill-color);\n",
              "    box-shadow: none;\n",
              "  }\n",
              "\n",
              "  .colab-df-spinner {\n",
              "    border: 2px solid var(--fill-color);\n",
              "    border-color: transparent;\n",
              "    border-bottom-color: var(--fill-color);\n",
              "    animation:\n",
              "      spin 1s steps(1) infinite;\n",
              "  }\n",
              "\n",
              "  @keyframes spin {\n",
              "    0% {\n",
              "      border-color: transparent;\n",
              "      border-bottom-color: var(--fill-color);\n",
              "      border-left-color: var(--fill-color);\n",
              "    }\n",
              "    20% {\n",
              "      border-color: transparent;\n",
              "      border-left-color: var(--fill-color);\n",
              "      border-top-color: var(--fill-color);\n",
              "    }\n",
              "    30% {\n",
              "      border-color: transparent;\n",
              "      border-left-color: var(--fill-color);\n",
              "      border-top-color: var(--fill-color);\n",
              "      border-right-color: var(--fill-color);\n",
              "    }\n",
              "    40% {\n",
              "      border-color: transparent;\n",
              "      border-right-color: var(--fill-color);\n",
              "      border-top-color: var(--fill-color);\n",
              "    }\n",
              "    60% {\n",
              "      border-color: transparent;\n",
              "      border-right-color: var(--fill-color);\n",
              "    }\n",
              "    80% {\n",
              "      border-color: transparent;\n",
              "      border-right-color: var(--fill-color);\n",
              "      border-bottom-color: var(--fill-color);\n",
              "    }\n",
              "    90% {\n",
              "      border-color: transparent;\n",
              "      border-bottom-color: var(--fill-color);\n",
              "    }\n",
              "  }\n",
              "</style>\n",
              "\n",
              "      <script>\n",
              "        async function quickchart(key) {\n",
              "          const quickchartButtonEl =\n",
              "            document.querySelector('#' + key + ' button');\n",
              "          quickchartButtonEl.disabled = true;  // To prevent multiple clicks.\n",
              "          quickchartButtonEl.classList.add('colab-df-spinner');\n",
              "          try {\n",
              "            const charts = await google.colab.kernel.invokeFunction(\n",
              "                'suggestCharts', [key], {});\n",
              "          } catch (error) {\n",
              "            console.error('Error during call to suggestCharts:', error);\n",
              "          }\n",
              "          quickchartButtonEl.classList.remove('colab-df-spinner');\n",
              "          quickchartButtonEl.classList.add('colab-df-quickchart-complete');\n",
              "        }\n",
              "        (() => {\n",
              "          let quickchartButtonEl =\n",
              "            document.querySelector('#df-7acc6d70-b420-4ecc-85d4-940b76021010 button');\n",
              "          quickchartButtonEl.style.display =\n",
              "            google.colab.kernel.accessAllowed ? 'block' : 'none';\n",
              "        })();\n",
              "      </script>\n",
              "    </div>\n",
              "\n",
              "    </div>\n",
              "  </div>\n"
            ],
            "application/vnd.google.colaboratory.intrinsic+json": {
              "type": "dataframe",
              "variable_name": "df"
            }
          },
          "metadata": {},
          "execution_count": 31
        }
      ]
    },
    {
      "cell_type": "markdown",
      "source": [
        "#Check the column names in the Dataset"
      ],
      "metadata": {
        "id": "iE-fZjP1XeQI"
      }
    },
    {
      "cell_type": "code",
      "source": [
        "df.columns"
      ],
      "metadata": {
        "colab": {
          "base_uri": "https://localhost:8080/"
        },
        "id": "gH2b6S7tW1pT",
        "outputId": "0d800484-f561-4e70-a98a-23ffe6d71b6d"
      },
      "execution_count": 32,
      "outputs": [
        {
          "output_type": "execute_result",
          "data": {
            "text/plain": [
              "Index(['id', 'NAME', 'host id', 'host_identity_verified', 'host name',\n",
              "       'neighbourhood group', 'neighbourhood', 'lat', 'long', 'country',\n",
              "       'country code', 'instant_bookable', 'cancellation_policy', 'room type',\n",
              "       'Construction year', 'price', 'service fee', 'minimum nights',\n",
              "       'number of reviews', 'last review', 'reviews per month',\n",
              "       'review rate number', 'calculated host listings count',\n",
              "       'availability 365', 'house_rules', 'license'],\n",
              "      dtype='object')"
            ]
          },
          "metadata": {},
          "execution_count": 32
        }
      ]
    },
    {
      "cell_type": "markdown",
      "source": [
        "#Check the Missing Values"
      ],
      "metadata": {
        "id": "BJvKuqvbXnLs"
      }
    },
    {
      "cell_type": "code",
      "source": [
        "print(df.isnull().sum())"
      ],
      "metadata": {
        "colab": {
          "base_uri": "https://localhost:8080/"
        },
        "id": "4w6sOIEAW1m-",
        "outputId": "d4fce9e6-c868-4954-9fb0-be8d0f073adf"
      },
      "execution_count": 33,
      "outputs": [
        {
          "output_type": "stream",
          "name": "stdout",
          "text": [
            "id                                   0\n",
            "NAME                                58\n",
            "host id                              0\n",
            "host_identity_verified              73\n",
            "host name                           20\n",
            "neighbourhood group                 27\n",
            "neighbourhood                       16\n",
            "lat                                  8\n",
            "long                                 8\n",
            "country                             50\n",
            "country code                        79\n",
            "instant_bookable                    79\n",
            "cancellation_policy                 50\n",
            "room type                            0\n",
            "Construction year                  135\n",
            "price                               11\n",
            "service fee                         15\n",
            "minimum nights                      84\n",
            "number of reviews                    7\n",
            "last review                        450\n",
            "reviews per month                  436\n",
            "review rate number                  93\n",
            "calculated host listings count      23\n",
            "availability 365                   148\n",
            "house_rules                       1521\n",
            "license                           4789\n",
            "dtype: int64\n"
          ]
        }
      ]
    },
    {
      "cell_type": "markdown",
      "source": [
        "#Handling Missing Values"
      ],
      "metadata": {
        "id": "05DpvDhHYADA"
      }
    },
    {
      "cell_type": "code",
      "source": [
        "df['last review'] = pd.to_datetime(df['last review'],errors='coerce')\n",
        "\n",
        "df.fillna({'reviews per month':0,'last review': df['last review'].min()},inplace=True)\n",
        "\n",
        "df.dropna(subset=['NAME','host name'],inplace=True)"
      ],
      "metadata": {
        "id": "Fk0BXiwKW1kk"
      },
      "execution_count": 34,
      "outputs": []
    },
    {
      "cell_type": "code",
      "source": [
        "print(df.isnull().sum())"
      ],
      "metadata": {
        "colab": {
          "base_uri": "https://localhost:8080/"
        },
        "id": "S6G16qIXW1h7",
        "outputId": "43d9d5c8-f418-4305-a9a5-e4d0f94362df"
      },
      "execution_count": 35,
      "outputs": [
        {
          "output_type": "stream",
          "name": "stdout",
          "text": [
            "id                                   0\n",
            "NAME                                 0\n",
            "host id                              0\n",
            "host_identity_verified              63\n",
            "host name                            0\n",
            "neighbourhood group                 24\n",
            "neighbourhood                       16\n",
            "lat                                  8\n",
            "long                                 8\n",
            "country                             44\n",
            "country code                        70\n",
            "instant_bookable                    70\n",
            "cancellation_policy                 44\n",
            "room type                            0\n",
            "Construction year                  122\n",
            "price                               11\n",
            "service fee                         15\n",
            "minimum nights                      78\n",
            "number of reviews                    6\n",
            "last review                          0\n",
            "reviews per month                    0\n",
            "review rate number                  81\n",
            "calculated host listings count      22\n",
            "availability 365                   120\n",
            "house_rules                       1503\n",
            "license                           4717\n",
            "dtype: int64\n"
          ]
        }
      ]
    },
    {
      "cell_type": "markdown",
      "source": [
        "#Change Datatype"
      ],
      "metadata": {
        "id": "l5YFstSQYT4A"
      }
    },
    {
      "cell_type": "code",
      "source": [
        "df['price'] = df['price'].replace('[\\$,]','',regex=True).astype(float)\n",
        "df['service fee'] = df['service fee'].replace('[\\$,]','',regex=True).astype(float)"
      ],
      "metadata": {
        "id": "50sbftgKYbrK"
      },
      "execution_count": 36,
      "outputs": []
    },
    {
      "cell_type": "markdown",
      "source": [
        "#Remove Duplicates"
      ],
      "metadata": {
        "id": "1YSQ9_7YYmZ2"
      }
    },
    {
      "cell_type": "code",
      "source": [
        "df.drop_duplicates(inplace=True)"
      ],
      "metadata": {
        "id": "Rb-wK8-vW1fK"
      },
      "execution_count": 37,
      "outputs": []
    },
    {
      "cell_type": "markdown",
      "source": [
        "#Confirme Data Cleaning"
      ],
      "metadata": {
        "id": "6BM9FqdOY0v5"
      }
    },
    {
      "cell_type": "code",
      "source": [
        "df.info()"
      ],
      "metadata": {
        "colab": {
          "base_uri": "https://localhost:8080/"
        },
        "id": "HyYmgrisW1cE",
        "outputId": "86d1a55c-57cf-4f9f-9aed-392f0c010539"
      },
      "execution_count": 38,
      "outputs": [
        {
          "output_type": "stream",
          "name": "stdout",
          "text": [
            "<class 'pandas.core.frame.DataFrame'>\n",
            "Index: 4717 entries, 0 to 4788\n",
            "Data columns (total 26 columns):\n",
            " #   Column                          Non-Null Count  Dtype         \n",
            "---  ------                          --------------  -----         \n",
            " 0   id                              4717 non-null   int64         \n",
            " 1   NAME                            4717 non-null   object        \n",
            " 2   host id                         4717 non-null   int64         \n",
            " 3   host_identity_verified          4654 non-null   object        \n",
            " 4   host name                       4717 non-null   object        \n",
            " 5   neighbourhood group             4693 non-null   object        \n",
            " 6   neighbourhood                   4701 non-null   object        \n",
            " 7   lat                             4709 non-null   float64       \n",
            " 8   long                            4709 non-null   float64       \n",
            " 9   country                         4673 non-null   object        \n",
            " 10  country code                    4647 non-null   object        \n",
            " 11  instant_bookable                4647 non-null   object        \n",
            " 12  cancellation_policy             4673 non-null   object        \n",
            " 13  room type                       4717 non-null   object        \n",
            " 14  Construction year               4595 non-null   float64       \n",
            " 15  price                           4706 non-null   float64       \n",
            " 16  service fee                     4702 non-null   float64       \n",
            " 17  minimum nights                  4639 non-null   float64       \n",
            " 18  number of reviews               4711 non-null   float64       \n",
            " 19  last review                     4717 non-null   datetime64[ns]\n",
            " 20  reviews per month               4717 non-null   float64       \n",
            " 21  review rate number              4636 non-null   float64       \n",
            " 22  calculated host listings count  4695 non-null   float64       \n",
            " 23  availability 365                4597 non-null   float64       \n",
            " 24  house_rules                     3214 non-null   object        \n",
            " 25  license                         0 non-null      float64       \n",
            "dtypes: datetime64[ns](1), float64(12), int64(2), object(11)\n",
            "memory usage: 995.0+ KB\n"
          ]
        }
      ]
    },
    {
      "cell_type": "code",
      "execution_count": 39,
      "metadata": {
        "id": "r0GGczVgWpDS"
      },
      "outputs": [],
      "source": [
        "df = df.drop(columns=[\"license\",\"house_rules\"],errors=\"ignore\")"
      ]
    },
    {
      "cell_type": "markdown",
      "source": [
        "#Descriptive Statistic's"
      ],
      "metadata": {
        "id": "hzExI_sKZMUJ"
      }
    },
    {
      "cell_type": "code",
      "source": [
        "df.describe()"
      ],
      "metadata": {
        "colab": {
          "base_uri": "https://localhost:8080/",
          "height": 476
        },
        "id": "9EJqOhLYYh0i",
        "outputId": "e097c234-3e60-4a2f-fa43-7965fbe0371d"
      },
      "execution_count": 40,
      "outputs": [
        {
          "output_type": "execute_result",
          "data": {
            "text/plain": [
              "                 id       host id          lat         long  \\\n",
              "count  4.717000e+03  4.717000e+03  4709.000000  4709.000000   \n",
              "mean   2.340742e+06  4.845088e+10    40.728785   -73.961150   \n",
              "min    1.001254e+06  1.316021e+08    40.508680   -74.239860   \n",
              "25%    1.690606e+06  2.388461e+10    40.688880   -73.984540   \n",
              "50%    2.341768e+06  4.755329e+10    40.723000   -73.960870   \n",
              "75%    2.994034e+06  7.305701e+10    40.762540   -73.945320   \n",
              "max    3.645748e+06  9.872629e+10    40.908040   -73.733230   \n",
              "std    7.554538e+05  2.844024e+10     0.051190     0.035403   \n",
              "\n",
              "       Construction year        price  service fee  minimum nights  \\\n",
              "count        4595.000000  4706.000000  4702.000000     4639.000000   \n",
              "mean         2012.354298   619.646834   123.794130       10.702738   \n",
              "min          2003.000000    50.000000    10.000000      -12.000000   \n",
              "25%          2007.000000   328.000000    66.000000        2.000000   \n",
              "50%          2012.000000   621.000000   124.000000        3.000000   \n",
              "75%          2017.000000   909.000000   182.000000        6.000000   \n",
              "max          2022.000000  1200.000000   240.000000     3455.000000   \n",
              "std             5.782278   333.736628    66.720632       59.225851   \n",
              "\n",
              "       number of reviews                    last review  reviews per month  \\\n",
              "count        4711.000000                           4717        4717.000000   \n",
              "mean           57.219911  2017-11-23 19:55:09.985159936           0.817250   \n",
              "min             0.000000            2012-07-11 00:00:00           0.000000   \n",
              "25%             6.000000            2016-09-25 00:00:00           0.100000   \n",
              "50%            24.000000            2019-02-19 00:00:00           0.370000   \n",
              "75%            79.000000            2019-06-18 00:00:00           1.150000   \n",
              "max           607.000000            2058-06-16 00:00:00          10.000000   \n",
              "std            76.573637                            NaN           1.063027   \n",
              "\n",
              "       review rate number  calculated host listings count  availability 365  \n",
              "count         4636.000000                     4695.000000       4597.000000  \n",
              "mean             2.995039                        2.481576        208.190559  \n",
              "min              1.000000                        1.000000        -10.000000  \n",
              "25%              2.000000                        1.000000         99.000000  \n",
              "50%              3.000000                        1.000000        208.000000  \n",
              "75%              4.000000                        2.000000        318.000000  \n",
              "max              5.000000                       52.000000        426.000000  \n",
              "std              1.419458                        6.240701        125.830226  "
            ],
            "text/html": [
              "\n",
              "  <div id=\"df-fb5e040a-2084-402a-b873-df518b6266a8\" class=\"colab-df-container\">\n",
              "    <div>\n",
              "<style scoped>\n",
              "    .dataframe tbody tr th:only-of-type {\n",
              "        vertical-align: middle;\n",
              "    }\n",
              "\n",
              "    .dataframe tbody tr th {\n",
              "        vertical-align: top;\n",
              "    }\n",
              "\n",
              "    .dataframe thead th {\n",
              "        text-align: right;\n",
              "    }\n",
              "</style>\n",
              "<table border=\"1\" class=\"dataframe\">\n",
              "  <thead>\n",
              "    <tr style=\"text-align: right;\">\n",
              "      <th></th>\n",
              "      <th>id</th>\n",
              "      <th>host id</th>\n",
              "      <th>lat</th>\n",
              "      <th>long</th>\n",
              "      <th>Construction year</th>\n",
              "      <th>price</th>\n",
              "      <th>service fee</th>\n",
              "      <th>minimum nights</th>\n",
              "      <th>number of reviews</th>\n",
              "      <th>last review</th>\n",
              "      <th>reviews per month</th>\n",
              "      <th>review rate number</th>\n",
              "      <th>calculated host listings count</th>\n",
              "      <th>availability 365</th>\n",
              "    </tr>\n",
              "  </thead>\n",
              "  <tbody>\n",
              "    <tr>\n",
              "      <th>count</th>\n",
              "      <td>4.717000e+03</td>\n",
              "      <td>4.717000e+03</td>\n",
              "      <td>4709.000000</td>\n",
              "      <td>4709.000000</td>\n",
              "      <td>4595.000000</td>\n",
              "      <td>4706.000000</td>\n",
              "      <td>4702.000000</td>\n",
              "      <td>4639.000000</td>\n",
              "      <td>4711.000000</td>\n",
              "      <td>4717</td>\n",
              "      <td>4717.000000</td>\n",
              "      <td>4636.000000</td>\n",
              "      <td>4695.000000</td>\n",
              "      <td>4597.000000</td>\n",
              "    </tr>\n",
              "    <tr>\n",
              "      <th>mean</th>\n",
              "      <td>2.340742e+06</td>\n",
              "      <td>4.845088e+10</td>\n",
              "      <td>40.728785</td>\n",
              "      <td>-73.961150</td>\n",
              "      <td>2012.354298</td>\n",
              "      <td>619.646834</td>\n",
              "      <td>123.794130</td>\n",
              "      <td>10.702738</td>\n",
              "      <td>57.219911</td>\n",
              "      <td>2017-11-23 19:55:09.985159936</td>\n",
              "      <td>0.817250</td>\n",
              "      <td>2.995039</td>\n",
              "      <td>2.481576</td>\n",
              "      <td>208.190559</td>\n",
              "    </tr>\n",
              "    <tr>\n",
              "      <th>min</th>\n",
              "      <td>1.001254e+06</td>\n",
              "      <td>1.316021e+08</td>\n",
              "      <td>40.508680</td>\n",
              "      <td>-74.239860</td>\n",
              "      <td>2003.000000</td>\n",
              "      <td>50.000000</td>\n",
              "      <td>10.000000</td>\n",
              "      <td>-12.000000</td>\n",
              "      <td>0.000000</td>\n",
              "      <td>2012-07-11 00:00:00</td>\n",
              "      <td>0.000000</td>\n",
              "      <td>1.000000</td>\n",
              "      <td>1.000000</td>\n",
              "      <td>-10.000000</td>\n",
              "    </tr>\n",
              "    <tr>\n",
              "      <th>25%</th>\n",
              "      <td>1.690606e+06</td>\n",
              "      <td>2.388461e+10</td>\n",
              "      <td>40.688880</td>\n",
              "      <td>-73.984540</td>\n",
              "      <td>2007.000000</td>\n",
              "      <td>328.000000</td>\n",
              "      <td>66.000000</td>\n",
              "      <td>2.000000</td>\n",
              "      <td>6.000000</td>\n",
              "      <td>2016-09-25 00:00:00</td>\n",
              "      <td>0.100000</td>\n",
              "      <td>2.000000</td>\n",
              "      <td>1.000000</td>\n",
              "      <td>99.000000</td>\n",
              "    </tr>\n",
              "    <tr>\n",
              "      <th>50%</th>\n",
              "      <td>2.341768e+06</td>\n",
              "      <td>4.755329e+10</td>\n",
              "      <td>40.723000</td>\n",
              "      <td>-73.960870</td>\n",
              "      <td>2012.000000</td>\n",
              "      <td>621.000000</td>\n",
              "      <td>124.000000</td>\n",
              "      <td>3.000000</td>\n",
              "      <td>24.000000</td>\n",
              "      <td>2019-02-19 00:00:00</td>\n",
              "      <td>0.370000</td>\n",
              "      <td>3.000000</td>\n",
              "      <td>1.000000</td>\n",
              "      <td>208.000000</td>\n",
              "    </tr>\n",
              "    <tr>\n",
              "      <th>75%</th>\n",
              "      <td>2.994034e+06</td>\n",
              "      <td>7.305701e+10</td>\n",
              "      <td>40.762540</td>\n",
              "      <td>-73.945320</td>\n",
              "      <td>2017.000000</td>\n",
              "      <td>909.000000</td>\n",
              "      <td>182.000000</td>\n",
              "      <td>6.000000</td>\n",
              "      <td>79.000000</td>\n",
              "      <td>2019-06-18 00:00:00</td>\n",
              "      <td>1.150000</td>\n",
              "      <td>4.000000</td>\n",
              "      <td>2.000000</td>\n",
              "      <td>318.000000</td>\n",
              "    </tr>\n",
              "    <tr>\n",
              "      <th>max</th>\n",
              "      <td>3.645748e+06</td>\n",
              "      <td>9.872629e+10</td>\n",
              "      <td>40.908040</td>\n",
              "      <td>-73.733230</td>\n",
              "      <td>2022.000000</td>\n",
              "      <td>1200.000000</td>\n",
              "      <td>240.000000</td>\n",
              "      <td>3455.000000</td>\n",
              "      <td>607.000000</td>\n",
              "      <td>2058-06-16 00:00:00</td>\n",
              "      <td>10.000000</td>\n",
              "      <td>5.000000</td>\n",
              "      <td>52.000000</td>\n",
              "      <td>426.000000</td>\n",
              "    </tr>\n",
              "    <tr>\n",
              "      <th>std</th>\n",
              "      <td>7.554538e+05</td>\n",
              "      <td>2.844024e+10</td>\n",
              "      <td>0.051190</td>\n",
              "      <td>0.035403</td>\n",
              "      <td>5.782278</td>\n",
              "      <td>333.736628</td>\n",
              "      <td>66.720632</td>\n",
              "      <td>59.225851</td>\n",
              "      <td>76.573637</td>\n",
              "      <td>NaN</td>\n",
              "      <td>1.063027</td>\n",
              "      <td>1.419458</td>\n",
              "      <td>6.240701</td>\n",
              "      <td>125.830226</td>\n",
              "    </tr>\n",
              "  </tbody>\n",
              "</table>\n",
              "</div>\n",
              "    <div class=\"colab-df-buttons\">\n",
              "\n",
              "  <div class=\"colab-df-container\">\n",
              "    <button class=\"colab-df-convert\" onclick=\"convertToInteractive('df-fb5e040a-2084-402a-b873-df518b6266a8')\"\n",
              "            title=\"Convert this dataframe to an interactive table.\"\n",
              "            style=\"display:none;\">\n",
              "\n",
              "  <svg xmlns=\"http://www.w3.org/2000/svg\" height=\"24px\" viewBox=\"0 -960 960 960\">\n",
              "    <path d=\"M120-120v-720h720v720H120Zm60-500h600v-160H180v160Zm220 220h160v-160H400v160Zm0 220h160v-160H400v160ZM180-400h160v-160H180v160Zm440 0h160v-160H620v160ZM180-180h160v-160H180v160Zm440 0h160v-160H620v160Z\"/>\n",
              "  </svg>\n",
              "    </button>\n",
              "\n",
              "  <style>\n",
              "    .colab-df-container {\n",
              "      display:flex;\n",
              "      gap: 12px;\n",
              "    }\n",
              "\n",
              "    .colab-df-convert {\n",
              "      background-color: #E8F0FE;\n",
              "      border: none;\n",
              "      border-radius: 50%;\n",
              "      cursor: pointer;\n",
              "      display: none;\n",
              "      fill: #1967D2;\n",
              "      height: 32px;\n",
              "      padding: 0 0 0 0;\n",
              "      width: 32px;\n",
              "    }\n",
              "\n",
              "    .colab-df-convert:hover {\n",
              "      background-color: #E2EBFA;\n",
              "      box-shadow: 0px 1px 2px rgba(60, 64, 67, 0.3), 0px 1px 3px 1px rgba(60, 64, 67, 0.15);\n",
              "      fill: #174EA6;\n",
              "    }\n",
              "\n",
              "    .colab-df-buttons div {\n",
              "      margin-bottom: 4px;\n",
              "    }\n",
              "\n",
              "    [theme=dark] .colab-df-convert {\n",
              "      background-color: #3B4455;\n",
              "      fill: #D2E3FC;\n",
              "    }\n",
              "\n",
              "    [theme=dark] .colab-df-convert:hover {\n",
              "      background-color: #434B5C;\n",
              "      box-shadow: 0px 1px 3px 1px rgba(0, 0, 0, 0.15);\n",
              "      filter: drop-shadow(0px 1px 2px rgba(0, 0, 0, 0.3));\n",
              "      fill: #FFFFFF;\n",
              "    }\n",
              "  </style>\n",
              "\n",
              "    <script>\n",
              "      const buttonEl =\n",
              "        document.querySelector('#df-fb5e040a-2084-402a-b873-df518b6266a8 button.colab-df-convert');\n",
              "      buttonEl.style.display =\n",
              "        google.colab.kernel.accessAllowed ? 'block' : 'none';\n",
              "\n",
              "      async function convertToInteractive(key) {\n",
              "        const element = document.querySelector('#df-fb5e040a-2084-402a-b873-df518b6266a8');\n",
              "        const dataTable =\n",
              "          await google.colab.kernel.invokeFunction('convertToInteractive',\n",
              "                                                    [key], {});\n",
              "        if (!dataTable) return;\n",
              "\n",
              "        const docLinkHtml = 'Like what you see? Visit the ' +\n",
              "          '<a target=\"_blank\" href=https://colab.research.google.com/notebooks/data_table.ipynb>data table notebook</a>'\n",
              "          + ' to learn more about interactive tables.';\n",
              "        element.innerHTML = '';\n",
              "        dataTable['output_type'] = 'display_data';\n",
              "        await google.colab.output.renderOutput(dataTable, element);\n",
              "        const docLink = document.createElement('div');\n",
              "        docLink.innerHTML = docLinkHtml;\n",
              "        element.appendChild(docLink);\n",
              "      }\n",
              "    </script>\n",
              "  </div>\n",
              "\n",
              "\n",
              "    <div id=\"df-14b5a049-2337-45bb-a227-8f7710016496\">\n",
              "      <button class=\"colab-df-quickchart\" onclick=\"quickchart('df-14b5a049-2337-45bb-a227-8f7710016496')\"\n",
              "                title=\"Suggest charts\"\n",
              "                style=\"display:none;\">\n",
              "\n",
              "<svg xmlns=\"http://www.w3.org/2000/svg\" height=\"24px\"viewBox=\"0 0 24 24\"\n",
              "     width=\"24px\">\n",
              "    <g>\n",
              "        <path d=\"M19 3H5c-1.1 0-2 .9-2 2v14c0 1.1.9 2 2 2h14c1.1 0 2-.9 2-2V5c0-1.1-.9-2-2-2zM9 17H7v-7h2v7zm4 0h-2V7h2v10zm4 0h-2v-4h2v4z\"/>\n",
              "    </g>\n",
              "</svg>\n",
              "      </button>\n",
              "\n",
              "<style>\n",
              "  .colab-df-quickchart {\n",
              "      --bg-color: #E8F0FE;\n",
              "      --fill-color: #1967D2;\n",
              "      --hover-bg-color: #E2EBFA;\n",
              "      --hover-fill-color: #174EA6;\n",
              "      --disabled-fill-color: #AAA;\n",
              "      --disabled-bg-color: #DDD;\n",
              "  }\n",
              "\n",
              "  [theme=dark] .colab-df-quickchart {\n",
              "      --bg-color: #3B4455;\n",
              "      --fill-color: #D2E3FC;\n",
              "      --hover-bg-color: #434B5C;\n",
              "      --hover-fill-color: #FFFFFF;\n",
              "      --disabled-bg-color: #3B4455;\n",
              "      --disabled-fill-color: #666;\n",
              "  }\n",
              "\n",
              "  .colab-df-quickchart {\n",
              "    background-color: var(--bg-color);\n",
              "    border: none;\n",
              "    border-radius: 50%;\n",
              "    cursor: pointer;\n",
              "    display: none;\n",
              "    fill: var(--fill-color);\n",
              "    height: 32px;\n",
              "    padding: 0;\n",
              "    width: 32px;\n",
              "  }\n",
              "\n",
              "  .colab-df-quickchart:hover {\n",
              "    background-color: var(--hover-bg-color);\n",
              "    box-shadow: 0 1px 2px rgba(60, 64, 67, 0.3), 0 1px 3px 1px rgba(60, 64, 67, 0.15);\n",
              "    fill: var(--button-hover-fill-color);\n",
              "  }\n",
              "\n",
              "  .colab-df-quickchart-complete:disabled,\n",
              "  .colab-df-quickchart-complete:disabled:hover {\n",
              "    background-color: var(--disabled-bg-color);\n",
              "    fill: var(--disabled-fill-color);\n",
              "    box-shadow: none;\n",
              "  }\n",
              "\n",
              "  .colab-df-spinner {\n",
              "    border: 2px solid var(--fill-color);\n",
              "    border-color: transparent;\n",
              "    border-bottom-color: var(--fill-color);\n",
              "    animation:\n",
              "      spin 1s steps(1) infinite;\n",
              "  }\n",
              "\n",
              "  @keyframes spin {\n",
              "    0% {\n",
              "      border-color: transparent;\n",
              "      border-bottom-color: var(--fill-color);\n",
              "      border-left-color: var(--fill-color);\n",
              "    }\n",
              "    20% {\n",
              "      border-color: transparent;\n",
              "      border-left-color: var(--fill-color);\n",
              "      border-top-color: var(--fill-color);\n",
              "    }\n",
              "    30% {\n",
              "      border-color: transparent;\n",
              "      border-left-color: var(--fill-color);\n",
              "      border-top-color: var(--fill-color);\n",
              "      border-right-color: var(--fill-color);\n",
              "    }\n",
              "    40% {\n",
              "      border-color: transparent;\n",
              "      border-right-color: var(--fill-color);\n",
              "      border-top-color: var(--fill-color);\n",
              "    }\n",
              "    60% {\n",
              "      border-color: transparent;\n",
              "      border-right-color: var(--fill-color);\n",
              "    }\n",
              "    80% {\n",
              "      border-color: transparent;\n",
              "      border-right-color: var(--fill-color);\n",
              "      border-bottom-color: var(--fill-color);\n",
              "    }\n",
              "    90% {\n",
              "      border-color: transparent;\n",
              "      border-bottom-color: var(--fill-color);\n",
              "    }\n",
              "  }\n",
              "</style>\n",
              "\n",
              "      <script>\n",
              "        async function quickchart(key) {\n",
              "          const quickchartButtonEl =\n",
              "            document.querySelector('#' + key + ' button');\n",
              "          quickchartButtonEl.disabled = true;  // To prevent multiple clicks.\n",
              "          quickchartButtonEl.classList.add('colab-df-spinner');\n",
              "          try {\n",
              "            const charts = await google.colab.kernel.invokeFunction(\n",
              "                'suggestCharts', [key], {});\n",
              "          } catch (error) {\n",
              "            console.error('Error during call to suggestCharts:', error);\n",
              "          }\n",
              "          quickchartButtonEl.classList.remove('colab-df-spinner');\n",
              "          quickchartButtonEl.classList.add('colab-df-quickchart-complete');\n",
              "        }\n",
              "        (() => {\n",
              "          let quickchartButtonEl =\n",
              "            document.querySelector('#df-14b5a049-2337-45bb-a227-8f7710016496 button');\n",
              "          quickchartButtonEl.style.display =\n",
              "            google.colab.kernel.accessAllowed ? 'block' : 'none';\n",
              "        })();\n",
              "      </script>\n",
              "    </div>\n",
              "\n",
              "    </div>\n",
              "  </div>\n"
            ],
            "application/vnd.google.colaboratory.intrinsic+json": {
              "type": "dataframe",
              "summary": "{\n  \"name\": \"df\",\n  \"rows\": 8,\n  \"fields\": [\n    {\n      \"column\": \"id\",\n      \"properties\": {\n        \"dtype\": \"number\",\n        \"std\": 1216845.0110994221,\n        \"min\": 4717.0,\n        \"max\": 3645748.0,\n        \"num_unique_values\": 8,\n        \"samples\": [\n          2340741.6981132077,\n          2994034.0,\n          4717.0\n        ],\n        \"semantic_type\": \"\",\n        \"description\": \"\"\n      }\n    },\n    {\n      \"column\": \"host id\",\n      \"properties\": {\n        \"dtype\": \"number\",\n        \"std\": 34336209753.102375,\n        \"min\": 4717.0,\n        \"max\": 98726286432.0,\n        \"num_unique_values\": 8,\n        \"samples\": [\n          48450882240.669495,\n          73057006949.0,\n          4717.0\n        ],\n        \"semantic_type\": \"\",\n        \"description\": \"\"\n      }\n    },\n    {\n      \"column\": \"lat\",\n      \"properties\": {\n        \"dtype\": \"number\",\n        \"std\": 1652.6015903283555,\n        \"min\": 0.05118974944995381,\n        \"max\": 4709.0,\n        \"num_unique_values\": 8,\n        \"samples\": [\n          40.72878521342111,\n          40.76254,\n          4709.0\n        ],\n        \"semantic_type\": \"\",\n        \"description\": \"\"\n      }\n    },\n    {\n      \"column\": \"long\",\n      \"properties\": {\n        \"dtype\": \"number\",\n        \"std\": 1687.496401133216,\n        \"min\": -74.23986,\n        \"max\": 4709.0,\n        \"num_unique_values\": 8,\n        \"samples\": [\n          -73.96114951794436,\n          -73.94532,\n          4709.0\n        ],\n        \"semantic_type\": \"\",\n        \"description\": \"\"\n      }\n    },\n    {\n      \"column\": \"Construction year\",\n      \"properties\": {\n        \"dtype\": \"number\",\n        \"std\": 1233.7659789123315,\n        \"min\": 5.782278230502547,\n        \"max\": 4595.0,\n        \"num_unique_values\": 8,\n        \"samples\": [\n          2012.3542981501632,\n          2017.0,\n          4595.0\n        ],\n        \"semantic_type\": \"\",\n        \"description\": \"\"\n      }\n    },\n    {\n      \"column\": \"price\",\n      \"properties\": {\n        \"dtype\": \"number\",\n        \"std\": 1502.1607170615207,\n        \"min\": 50.0,\n        \"max\": 4706.0,\n        \"num_unique_values\": 8,\n        \"samples\": [\n          619.6468338291543,\n          909.0,\n          4706.0\n        ],\n        \"semantic_type\": \"\",\n        \"description\": \"\"\n      }\n    },\n    {\n      \"column\": \"service fee\",\n      \"properties\": {\n        \"dtype\": \"number\",\n        \"std\": 1622.9559670198075,\n        \"min\": 10.0,\n        \"max\": 4702.0,\n        \"num_unique_values\": 8,\n        \"samples\": [\n          123.79413015737984,\n          182.0,\n          4702.0\n        ],\n        \"semantic_type\": \"\",\n        \"description\": \"\"\n      }\n    },\n    {\n      \"column\": \"minimum nights\",\n      \"properties\": {\n        \"dtype\": \"number\",\n        \"std\": 1894.8043946378575,\n        \"min\": -12.0,\n        \"max\": 4639.0,\n        \"num_unique_values\": 8,\n        \"samples\": [\n          10.702737658978227,\n          6.0,\n          4639.0\n        ],\n        \"semantic_type\": \"\",\n        \"description\": \"\"\n      }\n    },\n    {\n      \"column\": \"number of reviews\",\n      \"properties\": {\n        \"dtype\": \"number\",\n        \"std\": 1635.0036054868335,\n        \"min\": 0.0,\n        \"max\": 4711.0,\n        \"num_unique_values\": 8,\n        \"samples\": [\n          57.21991084695394,\n          79.0,\n          4711.0\n        ],\n        \"semantic_type\": \"\",\n        \"description\": \"\"\n      }\n    },\n    {\n      \"column\": \"last review\",\n      \"properties\": {\n        \"dtype\": \"date\",\n        \"min\": \"1970-01-01 00:00:00.000004717\",\n        \"max\": \"2058-06-16 00:00:00\",\n        \"num_unique_values\": 7,\n        \"samples\": [\n          \"4717\",\n          \"2017-11-23 19:55:09.985159936\",\n          \"2019-06-18 00:00:00\"\n        ],\n        \"semantic_type\": \"\",\n        \"description\": \"\"\n      }\n    },\n    {\n      \"column\": \"reviews per month\",\n      \"properties\": {\n        \"dtype\": \"number\",\n        \"std\": 1667.0327856197023,\n        \"min\": 0.0,\n        \"max\": 4717.0,\n        \"num_unique_values\": 8,\n        \"samples\": [\n          0.817250370998516,\n          1.15,\n          4717.0\n        ],\n        \"semantic_type\": \"\",\n        \"description\": \"\"\n      }\n    },\n    {\n      \"column\": \"review rate number\",\n      \"properties\": {\n        \"dtype\": \"number\",\n        \"std\": 1638.0934679206985,\n        \"min\": 1.0,\n        \"max\": 4636.0,\n        \"num_unique_values\": 8,\n        \"samples\": [\n          2.9950388265746333,\n          4.0,\n          4636.0\n        ],\n        \"semantic_type\": \"\",\n        \"description\": \"\"\n      }\n    },\n    {\n      \"column\": \"calculated host listings count\",\n      \"properties\": {\n        \"dtype\": \"number\",\n        \"std\": 1656.705919660695,\n        \"min\": 1.0,\n        \"max\": 4695.0,\n        \"num_unique_values\": 6,\n        \"samples\": [\n          4695.0,\n          2.4815761448349307,\n          6.240700902108634\n        ],\n        \"semantic_type\": \"\",\n        \"description\": \"\"\n      }\n    },\n    {\n      \"column\": \"availability 365\",\n      \"properties\": {\n        \"dtype\": \"number\",\n        \"std\": 1561.55698505682,\n        \"min\": -10.0,\n        \"max\": 4597.0,\n        \"num_unique_values\": 8,\n        \"samples\": [\n          208.1905590602567,\n          318.0,\n          4597.0\n        ],\n        \"semantic_type\": \"\",\n        \"description\": \"\"\n      }\n    }\n  ]\n}"
            }
          },
          "metadata": {},
          "execution_count": 40
        }
      ]
    },
    {
      "cell_type": "markdown",
      "source": [
        "#Visulization\n",
        "#Destribution of Prices"
      ],
      "metadata": {
        "id": "OEQ5nA7EZYIy"
      }
    },
    {
      "cell_type": "code",
      "source": [
        "plt.figure(figsize=(10,6))\n",
        "sns.histplot(df[\"price\"],bins=50,kde=True,color=\"#EDAC74\")\n",
        "plt.title(\"Distribution of Listing Prices\")\n",
        "plt.xlabel(\"Prices ($)\")\n",
        "plt.ylabel(\"Frequency\")\n",
        "plt.show()"
      ],
      "metadata": {
        "colab": {
          "base_uri": "https://localhost:8080/",
          "height": 564
        },
        "id": "qxpSVUT3YhxI",
        "outputId": "e8c415f5-53e5-47a0-931b-3b7763139804"
      },
      "execution_count": 41,
      "outputs": [
        {
          "output_type": "display_data",
          "data": {
            "text/plain": [
              "<Figure size 1000x600 with 1 Axes>"
            ],
            "image/png": "[encoded data removed]"
          },
          "metadata": {}
        }
      ]
    },
    {
      "cell_type": "markdown",
      "source": [
        "#Room Type Analysis\n",
        "#Analyze the Distribution of different room types\n"
      ],
      "metadata": {
        "id": "q0nnTxXQacHm"
      }
    },
    {
      "cell_type": "code",
      "source": [
        "plt.figure(figsize=(8,5))\n",
        "sns.countplot(x=\"room type\",data=df,color=\"Green\")\n",
        "plt.title(\"Room Type Distribution\")\n",
        "plt.xlabel(\"Room Type\")\n",
        "plt.ylabel(\"Count\")\n",
        "plt.show()"
      ],
      "metadata": {
        "colab": {
          "base_uri": "https://localhost:8080/",
          "height": 487
        },
        "id": "RnQPcNlKaW9n",
        "outputId": "2bb7b8af-4f6c-4371-e46a-245f1b639712"
      },
      "execution_count": 42,
      "outputs": [
        {
          "output_type": "display_data",
          "data": {
            "text/plain": [
              "<Figure size 800x500 with 1 Axes>"
            ],
            "image/png": "[encoded data removed]"
          },
          "metadata": {}
        }
      ]
    },
    {
      "cell_type": "markdown",
      "source": [
        "#Neighborhood Analysis\n",
        "#Examine How Listings are distributed across different neighborhoods"
      ],
      "metadata": {
        "id": "xq9ue8-rarrM"
      }
    },
    {
      "cell_type": "code",
      "source": [
        "plt.figure(figsize=(12,8))\n",
        "sns.countplot(y=\"neighbourhood group\",data=df,color=\"Blue\",order=df[\"neighbourhood group\"].value_counts().index)\n",
        "plt.title(\"Number of listings by neighbourhood group\")\n",
        "plt.xlabel(\"Count\")\n",
        "plt.ylabel(\"Neighbourhood group\")\n",
        "plt.show()"
      ],
      "metadata": {
        "colab": {
          "base_uri": "https://localhost:8080/",
          "height": 718
        },
        "id": "SWZNk0nOaW6Q",
        "outputId": "2abbd163-29c3-42d1-ac10-6150e43810cd"
      },
      "execution_count": 43,
      "outputs": [
        {
          "output_type": "display_data",
          "data": {
            "text/plain": [
              "<Figure size 1200x800 with 1 Axes>"
            ],
            "image/png": "[encoded data removed]"
          },
          "metadata": {}
        }
      ]
    },
    {
      "cell_type": "markdown",
      "source": [
        "#Price Vs Room Type\n",
        "#Visulization for the Relationship between Price and Type"
      ],
      "metadata": {
        "id": "9mIe0gmla-Es"
      }
    },
    {
      "cell_type": "code",
      "source": [
        "plt.figure(figsize=(10,6))\n",
        "sns.boxplot(x=\"room type\",y=\"price\",hue=\"room type\",data=df,palette=\"Set3\")\n",
        "plt.title(\"Price VS Room Type\")\n",
        "plt.xlabel(\"Room Type\")\n",
        "plt.ylabel(\"Price ($)\")\n",
        "plt.legend(title=\"Room Type\")\n",
        "plt.show()"
      ],
      "metadata": {
        "colab": {
          "base_uri": "https://localhost:8080/",
          "height": 619
        },
        "id": "zB1CQNEOaWu7",
        "outputId": "4e69acb5-6ffb-4c5a-d61a-acd194305f23"
      },
      "execution_count": 44,
      "outputs": [
        {
          "output_type": "stream",
          "name": "stderr",
          "text": [
            "/tmp/ipython-input-3436874940.py:6: UserWarning: No artists with labels found to put in legend.  Note that artists whose label start with an underscore are ignored when legend() is called with no argument.\n",
            "  plt.legend(title=\"Room Type\")\n"
          ]
        },
        {
          "output_type": "display_data",
          "data": {
            "text/plain": [
              "<Figure size 1000x600 with 1 Axes>"
            ],
            "image/png": "[encoded data removed]"
          },
          "metadata": {}
        }
      ]
    },
    {
      "cell_type": "markdown",
      "source": [
        "#Revies Over Time"
      ],
      "metadata": {
        "id": "Lh172oLHcjKB"
      }
    },
    {
      "cell_type": "code",
      "source": [
        "df[\"last review\"] = pd.to_datetime(df[\"last review\"])\n",
        "review_over_time =df.groupby(df[\"last review\"].dt.to_period(\"M\")).size()\n",
        "\n",
        "plt.figure(figsize=(12,6))\n",
        "review_over_time.plot(kind=\"line\",color=\"red\")\n",
        "plt.title(\"Number Of Review Over Time\")\n",
        "plt.xlabel(\"Date\")\n",
        "plt.ylabel(\"Number of Review\")\n",
        "plt.show()"
      ],
      "metadata": {
        "colab": {
          "base_uri": "https://localhost:8080/",
          "height": 564
        },
        "id": "oacsZ2HwaWmI",
        "outputId": "33040f10-21f4-4fbc-916a-f2b6df5b0904"
      },
      "execution_count": 45,
      "outputs": [
        {
          "output_type": "display_data",
          "data": {
            "text/plain": [
              "<Figure size 1200x600 with 1 Axes>"
            ],
            "image/png": "[encoded data removed]"
          },
          "metadata": {}
        }
      ]
    }
  ]
}